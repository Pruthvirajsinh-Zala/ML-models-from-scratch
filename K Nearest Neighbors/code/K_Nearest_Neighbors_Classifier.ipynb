{
  "nbformat": 4,
  "nbformat_minor": 0,
  "metadata": {
    "colab": {
      "provenance": []
    },
    "kernelspec": {
      "name": "python3",
      "display_name": "Python 3"
    },
    "language_info": {
      "name": "python"
    }
  },
  "cells": [
    {
      "cell_type": "markdown",
      "source": [
        "Importing the dependencied"
      ],
      "metadata": {
        "id": "qco5jwhvvCqv"
      }
    },
    {
      "cell_type": "code",
      "execution_count": 1,
      "metadata": {
        "id": "N17BnMq0u73I"
      },
      "outputs": [],
      "source": [
        "import numpy as np\n",
        "import statistics"
      ]
    },
    {
      "cell_type": "markdown",
      "source": [
        "K-Nearest Neighbors classifier"
      ],
      "metadata": {
        "id": "3ooeeiIBvPP5"
      }
    },
    {
      "cell_type": "code",
      "source": [
        "class KNN_Classifier():\n",
        "\n",
        "  def __init__(self,distance_metric):\n",
        "\n",
        "    self.distance_metrics = distance_metric\n",
        "\n",
        "\n",
        "  def get_distance_metrics(self,training_data_point,test_data_point):\n",
        "\n",
        "    if(self.distance_metric == 'euclidean'):\n",
        "\n",
        "      dist=0\n",
        "\n",
        "      for i in range(len(training_data_point)-1):\n",
        "        dist = dist + (training_data_point[i] - test_data_point[i])**2\n",
        "\n",
        "\n",
        "  def nearest_neighbours(self):\n",
        "\n",
        "\n",
        "  def predict(self):\n"
      ],
      "metadata": {
        "id": "paYLcN22vM0f"
      },
      "execution_count": null,
      "outputs": []
    }
  ]
}