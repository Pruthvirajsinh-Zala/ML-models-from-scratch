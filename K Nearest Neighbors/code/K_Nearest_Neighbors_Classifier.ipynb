{
  "nbformat": 4,
  "nbformat_minor": 0,
  "metadata": {
    "colab": {
      "provenance": []
    },
    "kernelspec": {
      "name": "python3",
      "display_name": "Python 3"
    },
    "language_info": {
      "name": "python"
    }
  },
  "cells": [
    {
      "cell_type": "markdown",
      "source": [
        "Importing the dependencied"
      ],
      "metadata": {
        "id": "qco5jwhvvCqv"
      }
    },
    {
      "cell_type": "code",
      "execution_count": 1,
      "metadata": {
        "id": "N17BnMq0u73I"
      },
      "outputs": [],
      "source": [
        "import numpy as np\n",
        "import statistics"
      ]
    },
    {
      "cell_type": "markdown",
      "source": [
        "K-Nearest Neighbors classifier"
      ],
      "metadata": {
        "id": "3ooeeiIBvPP5"
      }
    },
    {
      "cell_type": "code",
      "source": [
        "class KNN_Classifier():\n",
        "\n",
        "  def __init__(self,distance_metric):\n",
        "\n",
        "    self.distance_metrics = distance_metric\n",
        "\n",
        "\n",
        "  def get_distance_metrics(self,training_data_point,test_data_point):\n",
        "\n",
        "    if(self.distance_metric == 'euclidean'):\n",
        "\n",
        "      dist=0\n",
        "\n",
        "      for i in range(len(training_data_point)-1):\n",
        "        dist = dist + (training_data_point[i] - test_data_point[i])**2\n",
        "\n",
        "      euclidean_dist = np.sqrt(dist)\n",
        "      return euclidean_dist\n",
        "\n",
        "    elif(self.distance_metric == 'manhattan'):\n",
        "\n",
        "      dist = 0\n",
        "\n",
        "      for i in range(len(training_data_point)-1):\n",
        "\n",
        "        dist = dist + abs(training_data_point[i] - test_data_point[i])\n",
        "      manhattan_dist = dist\n",
        "      return manhattan_dist\n",
        "\n",
        "  #getting the nearest neighbors\n",
        "  def nearest_neighbours(self,X_train,test_data,k):\n",
        "    distance_list = []\n",
        "\n",
        "    for training_data in X_train:\n",
        "\n",
        "      distance = self.get_distance_metrics(training_data,test_data)\n",
        "\n",
        "      distance_list.append(training_data,distance)\n",
        "\n",
        "    distance_list.sort(key=lambda x:x[1])\n",
        "\n",
        "    neighbors_list = []\n",
        "\n",
        "    for j in range(k):\n",
        "\n",
        "        neighbors_list.append(distance_list[j][0])\n",
        "\n",
        "    return neighbors_list\n",
        "\n",
        "\n",
        "\n",
        "  def predict(self,X_train,test_data,k):\n",
        "\n",
        "    neighbors = self.nearest_neighbours(X_train,test_data,k)\n",
        "\n",
        "    for data in neighbors:\n",
        "      label = []\n",
        "      label.append(data[-1])\n",
        "    predicted_class = statistics.mode(label)\n",
        "\n",
        "    return predicted_class\n"
      ],
      "metadata": {
        "id": "paYLcN22vM0f"
      },
      "execution_count": null,
      "outputs": []
    }
  ]
}