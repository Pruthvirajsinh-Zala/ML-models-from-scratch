{
  "nbformat": 4,
  "nbformat_minor": 0,
  "metadata": {
    "colab": {
      "provenance": []
    },
    "kernelspec": {
      "name": "python3",
      "display_name": "Python 3"
    },
    "language_info": {
      "name": "python"
    }
  },
  "cells": [
    {
      "cell_type": "code",
      "execution_count": 29,
      "metadata": {
        "id": "vSV6bVHrsfCf"
      },
      "outputs": [],
      "source": [
        "import numpy as np"
      ]
    },
    {
      "cell_type": "markdown",
      "source": [
        "Euclidian Distence"
      ],
      "metadata": {
        "id": "waRhyEiHFaan"
      }
    },
    {
      "cell_type": "code",
      "source": [
        "#2 dimention\n",
        "p1 = (1,1)\n",
        "p2 = (2,2)"
      ],
      "metadata": {
        "id": "Ull2AJZasxya"
      },
      "execution_count": 30,
      "outputs": []
    },
    {
      "cell_type": "code",
      "source": [
        "dist = (p1[0] - p2[0])**2 + (p1[1] - p2[1])**2\n",
        "\n",
        "euclidean_dist = np.sqrt(dist)\n",
        "\n",
        "print(euclidean_dist)"
      ],
      "metadata": {
        "colab": {
          "base_uri": "https://localhost:8080/"
        },
        "id": "kd_6jGCPFiYY",
        "outputId": "d8743b75-5d68-4811-ef6a-dd9936fa475a"
      },
      "execution_count": 31,
      "outputs": [
        {
          "output_type": "stream",
          "name": "stdout",
          "text": [
            "1.4142135623730951\n"
          ]
        }
      ]
    },
    {
      "cell_type": "code",
      "source": [
        "#3 dimention\n",
        "p1 = (1,1,1)\n",
        "p2 = (2,2,2)\n",
        "\n",
        "dist = (p1[0] - p2[0])**2 + (p1[1] - p2[1])**2 + (p1[2] - p2[2])**2\n",
        "\n",
        "euclidean_dist = np.sqrt(dist)\n",
        "\n",
        "print(euclidean_dist)"
      ],
      "metadata": {
        "id": "YJ_FdhWYLABE",
        "colab": {
          "base_uri": "https://localhost:8080/"
        },
        "outputId": "f5a4b9f7-cbec-4e24-b169-c4417e233c34"
      },
      "execution_count": 32,
      "outputs": [
        {
          "output_type": "stream",
          "name": "stdout",
          "text": [
            "1.7320508075688772\n"
          ]
        }
      ]
    },
    {
      "cell_type": "code",
      "source": [
        "#4 dimention with dynamic dimentions using for loop\n",
        "p1 = (1,1,1,1)\n",
        "p2 = (2,2,2,2)\n",
        "\n",
        "dist = 0\n",
        "\n",
        "for i in range(len(p1)):\n",
        "  dist = dist +(p1[i] - p2[i])**2\n",
        "\n",
        "euclidean_dist = np.sqrt(dist)\n",
        "\n",
        "print(euclidean_dist)\n"
      ],
      "metadata": {
        "colab": {
          "base_uri": "https://localhost:8080/"
        },
        "id": "TjBMwmMNwgwf",
        "outputId": "bc343afe-8588-410d-9920-a79b3a686c69"
      },
      "execution_count": 33,
      "outputs": [
        {
          "output_type": "stream",
          "name": "stdout",
          "text": [
            "2.0\n"
          ]
        }
      ]
    },
    {
      "cell_type": "markdown",
      "source": [
        "Creting a function for euclidean Distance"
      ],
      "metadata": {
        "id": "tXQdUTDGeBZK"
      }
    },
    {
      "cell_type": "code",
      "source": [
        "def get_euclidean_distance(p1,p2):\n",
        "  dist = 0\n",
        "\n",
        "  for i in range(len(p1)):\n",
        "    dist = dist +(p1[i] - p2[i])**2\n",
        "\n",
        "  euclidean_dist = np.sqrt(dist)\n",
        "\n",
        "  print(euclidean_dist)"
      ],
      "metadata": {
        "id": "pyqAcUZsdTUC"
      },
      "execution_count": 34,
      "outputs": []
    },
    {
      "cell_type": "code",
      "source": [
        "get_euclidean_distance((1,1,1,1),(2,2,2,2))"
      ],
      "metadata": {
        "colab": {
          "base_uri": "https://localhost:8080/"
        },
        "id": "SF6irExjehP5",
        "outputId": "4167c45b-b367-4411-c9e3-82c0030ba168"
      },
      "execution_count": 35,
      "outputs": [
        {
          "output_type": "stream",
          "name": "stdout",
          "text": [
            "2.0\n"
          ]
        }
      ]
    },
    {
      "cell_type": "markdown",
      "source": [
        "Manhattan Distance"
      ],
      "metadata": {
        "id": "JouCZqeveuK-"
      }
    },
    {
      "cell_type": "code",
      "source": [
        "def get_manhattan_distance(p1,p2):\n",
        "  dist = 0\n",
        "\n",
        "  for i in range(len(p1)):\n",
        "    dist = dist + abs(p1[i] - p2[i])\n",
        "\n",
        "  manhattan_dist = dist\n",
        "\n",
        "  print(manhattan_dist)"
      ],
      "metadata": {
        "id": "iW-2Ddsyeme-"
      },
      "execution_count": 36,
      "outputs": []
    },
    {
      "cell_type": "code",
      "source": [
        "get_manhattan_distance((1,1,1,1),(2,2,2,2))"
      ],
      "metadata": {
        "colab": {
          "base_uri": "https://localhost:8080/"
        },
        "id": "-ebK3j_OfPiP",
        "outputId": "db9e5d54-da21-42a0-d36e-af7136cf9715"
      },
      "execution_count": 37,
      "outputs": [
        {
          "output_type": "stream",
          "name": "stdout",
          "text": [
            "4\n"
          ]
        }
      ]
    },
    {
      "cell_type": "markdown",
      "source": [
        "Calculating Distance Between two data points"
      ],
      "metadata": {
        "id": "4CA3ah2_hjjZ"
      }
    },
    {
      "cell_type": "code",
      "source": [
        "#dist. between to similar point\n",
        "get_euclidean_distence((63,1,3,145,233,1,0,150,0,2.3,0,0,1),(37,1,2,130,250,0,1,187,0,3.5,0,0,2))\n",
        "get_manhattan_distance((63,1,3,145,233,1,0,150,0,2.3,0,0,1),(37,1,2,130,250,0,1,187,0,3.5,0,0,2))"
      ],
      "metadata": {
        "colab": {
          "base_uri": "https://localhost:8080/"
        },
        "id": "uytKiuxafSTr",
        "outputId": "2c4f4456-91d3-47de-bc2b-868f8cc978a2"
      },
      "execution_count": 39,
      "outputs": [
        {
          "output_type": "stream",
          "name": "stdout",
          "text": [
            "50.640300157088326\n",
            "100.2\n"
          ]
        }
      ]
    },
    {
      "cell_type": "code",
      "source": [
        "#distance between two dissimilar data points\n",
        "get_euclidean_distence((63,1,3,145,233,1,0,150,0,2.3,0,0,1),(67,1,0,160,286,0,0,108,1,1.5,1,3,2))\n",
        "get_manhattan_distance((63,1,3,145,233,1,0,150,0,2.3,0,0,1),(67,1,0,160,286,0,0,108,1,1.5,1,3,2))"
      ],
      "metadata": {
        "colab": {
          "base_uri": "https://localhost:8080/"
        },
        "id": "z0UZOH0ziKvC",
        "outputId": "4863eaaf-0be5-4863-9745-cd114b69896f"
      },
      "execution_count": 40,
      "outputs": [
        {
          "output_type": "stream",
          "name": "stdout",
          "text": [
            "69.54595602908914\n",
            "124.8\n"
          ]
        }
      ]
    },
    {
      "cell_type": "code",
      "source": [],
      "metadata": {
        "id": "5ArPAXwSiy8k"
      },
      "execution_count": null,
      "outputs": []
    }
  ]
}