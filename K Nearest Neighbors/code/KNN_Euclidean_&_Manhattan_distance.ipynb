{
  "nbformat": 4,
  "nbformat_minor": 0,
  "metadata": {
    "colab": {
      "provenance": []
    },
    "kernelspec": {
      "name": "python3",
      "display_name": "Python 3"
    },
    "language_info": {
      "name": "python"
    }
  },
  "cells": [
    {
      "cell_type": "code",
      "execution_count": 1,
      "metadata": {
        "id": "vSV6bVHrsfCf"
      },
      "outputs": [],
      "source": [
        "import numpy as np"
      ]
    },
    {
      "cell_type": "markdown",
      "source": [
        "Euclidian Distence"
      ],
      "metadata": {
        "id": "waRhyEiHFaan"
      }
    },
    {
      "cell_type": "code",
      "source": [
        "#2 dimention\n",
        "p1 = (1,1)\n",
        "p2 = (2,2)"
      ],
      "metadata": {
        "id": "Ull2AJZasxya"
      },
      "execution_count": 2,
      "outputs": []
    },
    {
      "cell_type": "code",
      "source": [
        "dist = (p1[0] - p2[0])**2 + (p1[1] - p2[1])**2\n",
        "\n",
        "euclidean_dist = np.sqrt(dist)\n",
        "\n",
        "print(euclidean_dist)"
      ],
      "metadata": {
        "colab": {
          "base_uri": "https://localhost:8080/"
        },
        "id": "kd_6jGCPFiYY",
        "outputId": "72d7bdaa-30fb-4333-83e5-61ee385ea98c"
      },
      "execution_count": 5,
      "outputs": [
        {
          "output_type": "stream",
          "name": "stdout",
          "text": [
            "1.4142135623730951\n"
          ]
        }
      ]
    },
    {
      "cell_type": "code",
      "source": [
        "#3 dimention\n",
        "p1 = (1,1,1)\n",
        "p2 = (2,2,2)\n",
        "\n",
        "dist = (p1[0] - p2[0])**2 + (p1[1] - p2[1])**2 + (p1[2] - p2[2])**2\n",
        "\n",
        "euclidean_dist = np.sqrt(dist)\n",
        "\n",
        "print(euclidean_dist)"
      ],
      "metadata": {
        "id": "YJ_FdhWYLABE",
        "colab": {
          "base_uri": "https://localhost:8080/"
        },
        "outputId": "906d7d31-6e04-4f9e-f770-9dd345f08ff7"
      },
      "execution_count": 7,
      "outputs": [
        {
          "output_type": "stream",
          "name": "stdout",
          "text": [
            "1.7320508075688772\n"
          ]
        }
      ]
    },
    {
      "cell_type": "code",
      "source": [],
      "metadata": {
        "id": "TjBMwmMNwgwf"
      },
      "execution_count": null,
      "outputs": []
    }
  ]
}