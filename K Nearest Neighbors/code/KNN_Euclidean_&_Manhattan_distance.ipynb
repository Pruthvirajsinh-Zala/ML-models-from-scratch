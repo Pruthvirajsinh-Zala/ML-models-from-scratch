{
  "nbformat": 4,
  "nbformat_minor": 0,
  "metadata": {
    "colab": {
      "provenance": []
    },
    "kernelspec": {
      "name": "python3",
      "display_name": "Python 3"
    },
    "language_info": {
      "name": "python"
    }
  },
  "cells": [
    {
      "cell_type": "code",
      "execution_count": 1,
      "metadata": {
        "id": "vSV6bVHrsfCf"
      },
      "outputs": [],
      "source": [
        "import numpy as np"
      ]
    },
    {
      "cell_type": "markdown",
      "source": [
        "Euclidian Distence"
      ],
      "metadata": {
        "id": "waRhyEiHFaan"
      }
    },
    {
      "cell_type": "code",
      "source": [
        "p1 = (1,1)\n",
        "p2 = (2,2)"
      ],
      "metadata": {
        "id": "Ull2AJZasxya"
      },
      "execution_count": 2,
      "outputs": []
    },
    {
      "cell_type": "code",
      "source": [
        "dist = (p1[0] - p2[0])**2 + (p1[1] - p2[1])**2\n",
        "\n",
        "euclidean_dist = np.sqrt(dist)\n",
        "\n",
        "print(euclidean_dist)"
      ],
      "metadata": {
        "colab": {
          "base_uri": "https://localhost:8080/"
        },
        "id": "kd_6jGCPFiYY",
        "outputId": "bfaed48f-44f7-4f06-d2f5-e6248e89a510"
      },
      "execution_count": 3,
      "outputs": [
        {
          "output_type": "stream",
          "name": "stdout",
          "text": [
            "1.4142135623730951\n"
          ]
        }
      ]
    },
    {
      "cell_type": "code",
      "source": [],
      "metadata": {
        "id": "YJ_FdhWYLABE"
      },
      "execution_count": null,
      "outputs": []
    }
  ]
}