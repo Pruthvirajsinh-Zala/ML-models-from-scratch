{
  "nbformat": 4,
  "nbformat_minor": 0,
  "metadata": {
    "colab": {
      "provenance": []
    },
    "kernelspec": {
      "name": "python3",
      "display_name": "Python 3"
    },
    "language_info": {
      "name": "python"
    }
  },
  "cells": [
    {
      "cell_type": "markdown",
      "source": [
        "Importing the dependencies"
      ],
      "metadata": {
        "id": "g44dCEn52Slh"
      }
    },
    {
      "cell_type": "code",
      "execution_count": 1,
      "metadata": {
        "id": "YgaD6_-42NYZ"
      },
      "outputs": [],
      "source": [
        "import numpy as np"
      ]
    },
    {
      "cell_type": "markdown",
      "source": [
        "Lasso Regression"
      ],
      "metadata": {
        "id": "xcx1qAu32aqJ"
      }
    },
    {
      "cell_type": "code",
      "source": [
        "class Lasso_Regression():\n",
        "  def __init__(self,learning_rate,no_of_iterations,lambda_parameter):\n",
        "    self.learning_rate=learning_rate\n",
        "    self.no_of_iterations=no_of_iterations\n",
        "    self.lambda_parameter=lambda_parameter\n",
        "\n",
        "  def fit(self,X,Y):\n",
        "\n",
        "    self.m, self.n = X.shape\n",
        "    self.w = np.zeros(self.n)\n",
        "    self.b = 0\n",
        "    self.X = X\n",
        "    self.Y = Y\n",
        "\n",
        "    #implementing gradient desent algorithm\n",
        "    for i in range(self.no_of_iterations):\n",
        "      self.update_weights()\n",
        "\n",
        "  def update_weights(self):\n",
        "\n",
        "    #linear equation of the model\n",
        "    Y_prediction = self.predict(self.X)\n",
        "\n",
        "    #gradients (dw,db)\n",
        "\n",
        "    #gradient for weight\n",
        "    dw = np.zeros(self.n)\n",
        "\n",
        "\n",
        "    for i in range(self.n):\n",
        "      if self.w[i] > 0:\n",
        "\n",
        "        dw[i] = (-(2*(self.X[:,i]).dot(self.Y - Y_prediction)) + self.lambda_parameter) / self.m\n",
        "\n",
        "      else:\n",
        "\n",
        "        dw[i] = (-(2*(self.X[:,i]).dot(self.Y - Y_prediction)) - self.lambda_parameter) / self.m\n",
        "\n",
        "\n",
        "    #gradients for bias\n",
        "\n",
        "    db = -2 * np.sum(self.Y - Y_prediction) / self.m\n",
        "\n",
        "    #updating the weight and bias\n",
        "\n",
        "    self.w = self.w - self.learning_rate * dw\n",
        "    self.b = self.b - self.learning_rate * db\n",
        "\n",
        "  def predict(self,X):\n",
        "\n",
        "    return X.dot(self.w) + self.b\n",
        ""
      ],
      "metadata": {
        "id": "aRGMSj5w2ZKI"
      },
      "execution_count": null,
      "outputs": []
    }
  ]
}