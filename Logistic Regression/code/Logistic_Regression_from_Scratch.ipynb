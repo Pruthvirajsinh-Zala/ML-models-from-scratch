{
  "cells": [
    {
      "cell_type": "markdown",
      "metadata": {
        "id": "oxMZcxtyIk34"
      },
      "source": [
        "Importing the Dependencies"
      ]
    },
    {
      "cell_type": "code",
      "execution_count": null,
      "metadata": {
        "id": "beFTKL6oSsDW"
      },
      "outputs": [],
      "source": [
        "import numpy as np"
      ]
    },
    {
      "cell_type": "markdown",
      "metadata": {
        "id": "j_4ubldtI1iy"
      },
      "source": [
        "Logistic Regression"
      ]
    },
    {
      "cell_type": "code",
      "execution_count": null,
      "metadata": {
        "id": "XfJWFpp3I0wM"
      },
      "outputs": [],
      "source": [
        "class Logistic_Regression():\n",
        "  def init(self,learning_rate, no_of_iterations):\n",
        "\n",
        "    #learning rate = how fast the model learns the data\n",
        "    self.learning_rate=learning_rate\n",
        "\n",
        "    #no.of iterations = how many times the model goes through the data\n",
        "    self.no_of_iterations=no_of_iterations\n",
        "\n",
        "  def fit(self,X,Y):\n",
        "\n",
        "    #number of data points and input features = m,n\n",
        "    self.m, self.n = X.shape\n",
        "\n",
        "    #initializing weight and bias values with 0\n",
        "    self.w = np.zeros(self.n)\n",
        "    self.b = 0\n",
        "\n",
        "    self.X = X\n",
        "    self.Y = Y\n",
        "\n",
        "    # implementing Gradint Desent for model optimization\n",
        "\n",
        "    for i in range(self.no_of_iterations):\n",
        "      self.update_weights()\n",
        "\n",
        "  def update_weights(self):\n",
        "\n",
        "    #Y_cap formula (Sigmoid Function)\n",
        "    Y_cap = 1 / ( 1 + np.exp( - ( self.X.dot( self.w ) + self.b )))\n",
        "\n",
        "    #derivatives\n",
        "\n",
        "    dw = (1/self.m)*np.dot(self.X.T, (Y_cap - self.Y))\n",
        "    db = (1/self.m)*np.sum(Y_cap - self.Y)\n",
        "\n",
        "    #updating the weights and bias using gradient desent\n",
        "    self.w = self.w - self.learning_rate * dw\n",
        "    self.b = self.b - self.learning_rate * db\n",
        "\n",
        "  # Sigmoid Equation & Decision Boundries\n",
        "  def predict(self):\n",
        "\n",
        "    Y_pred =  1 / ( 1 + np.exp( - ( self.X.dot( self.w ) + self.b )))\n",
        "    Y_pred = np.whare( Y_pred > 0.5, 1, 0)\n",
        "    return Y_pred\n",
        "\n"
      ]
    },
    {
      "cell_type": "code",
      "execution_count": null,
      "metadata": {
        "id": "Ys2IOArWXraq"
      },
      "outputs": [],
      "source": []
    }
  ],
  "metadata": {
    "colab": {
      "provenance": []
    },
    "kernelspec": {
      "display_name": "Python 3",
      "name": "python3"
    },
    "language_info": {
      "name": "python"
    }
  },
  "nbformat": 4,
  "nbformat_minor": 0
}
